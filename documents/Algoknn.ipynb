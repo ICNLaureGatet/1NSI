{
 "cells": [
  {
   "cell_type": "markdown",
   "metadata": {},
   "source": [
    "On importe dans un premier temps les modules nécessaires :\n"
   ]
  },
  {
   "cell_type": "code",
   "execution_count": 1,
   "metadata": {},
   "outputs": [
    {
     "name": "stdout",
     "output_type": "stream",
     "text": [
      "Collecting matplotlib\n",
      "  Downloading matplotlib-3.2.1-cp37-cp37m-manylinux1_x86_64.whl (12.4 MB)\n",
      "\u001b[K     |████████████████████████████████| 12.4 MB 5.6 MB/s eta 0:00:01\n",
      "\u001b[?25hCollecting kiwisolver>=1.0.1\n",
      "  Downloading kiwisolver-1.2.0-cp37-cp37m-manylinux1_x86_64.whl (88 kB)\n",
      "\u001b[K     |████████████████████████████████| 88 kB 6.8 MB/s  eta 0:00:01\n",
      "\u001b[?25hCollecting pyparsing!=2.0.4,!=2.1.2,!=2.1.6,>=2.0.1\n",
      "  Downloading pyparsing-2.4.7-py2.py3-none-any.whl (67 kB)\n",
      "\u001b[K     |████████████████████████████████| 67 kB 3.7 MB/s  eta 0:00:01\n",
      "\u001b[?25hRequirement already satisfied: python-dateutil>=2.1 in /opt/conda/lib/python3.7/site-packages (from matplotlib) (2.8.1)\n",
      "Collecting numpy>=1.11\n",
      "  Downloading numpy-1.18.4-cp37-cp37m-manylinux1_x86_64.whl (20.2 MB)\n",
      "\u001b[K     |████████████████████████████████| 20.2 MB 43.2 MB/s eta 0:00:01    |████████▎                       | 5.2 MB 43.2 MB/s eta 0:00:01\n",
      "\u001b[?25hCollecting cycler>=0.10\n",
      "  Downloading cycler-0.10.0-py2.py3-none-any.whl (6.5 kB)\n",
      "Requirement already satisfied: six>=1.5 in /opt/conda/lib/python3.7/site-packages (from python-dateutil>=2.1->matplotlib) (1.14.0)\n",
      "Installing collected packages: kiwisolver, pyparsing, numpy, cycler, matplotlib\n",
      "Successfully installed cycler-0.10.0 kiwisolver-1.2.0 matplotlib-3.2.1 numpy-1.18.4 pyparsing-2.4.7\n"
     ]
    }
   ],
   "source": [
    "import csv\n",
    "import sys\n",
    "!{sys.executable} -m pip install matplotlib\n",
    "import matplotlib.pyplot as plt"
   ]
  },
  {
   "cell_type": "markdown",
   "metadata": {},
   "source": [
    "Je créé la fonction d'extraction avec comme paramètre le nom de fichier que j'ai préalablement inséré au même niveau que ce document jupyter"
   ]
  },
  {
   "cell_type": "code",
   "execution_count": 2,
   "metadata": {},
   "outputs": [],
   "source": [
    "def extractionDonnees(nomFichier):\n",
    "    \"\"\"Cette fonction récupère les données d'un fichier csv et renvoie un dictionnaire :\n",
    "    La liste des descripteurs et la liste de toutes les données\"\"\"\n",
    "    nomDuFichier = nomFichier\n",
    "    if nomFichier[-4:]!=\".csv\":\n",
    "        nomDuFichier+=\".csv\"\n",
    "    fichier = open(nomDuFichier,\"r\",encoding=\"utf-8\")\n",
    "    extraction=csv.DictReader(fichier,delimiter=\";\")\n",
    "    listeJoueurs=[]\n",
    "    for ligne in extraction:\n",
    "        listeJoueurs.append(dict(ligne))\n",
    "    return listeJoueurs"
   ]
  },
  {
   "cell_type": "code",
   "execution_count": 3,
   "metadata": {},
   "outputs": [],
   "source": [
    "Joueurs=extractionDonnees(\"JoueursTop14.csv\")\n"
   ]
  },
  {
   "cell_type": "markdown",
   "metadata": {},
   "source": [
    "Je crée une fonction qui va me permettre de n'extraire qu'une partie des joueurs (ceux d'un même club). Si le deuxième paramètre vaut \"tous\", alors il prendra tous les joueurs."
   ]
  },
  {
   "cell_type": "code",
   "execution_count": 4,
   "metadata": {},
   "outputs": [],
   "source": [
    "def extraireEquipe(data,equipe):\n",
    "    \"\"\"de l'ensemble des listes, on extrait seulement celles d'une équipe\n",
    "    Parmi les équipes, on trouve \"Agen\", \"Bayonne\", \"Bordeaux\", \"Brive\", \"Castres\", \"Clermont\",\n",
    "    \"La Rochelle\", \"Lyon\", \"Montpellier\", \"Paris\", \"Pau\", Racing92\", \"Toulon\" et \"Toulouse\"\n",
    "    On peut aussi écrire \"tous\" pour avoir tous les joueurs du top 14\"\"\"\n",
    "    return [el for el in data if (el['Equipe'] == equipe or equipe.lower() == \"tous\")]\n"
   ]
  },
  {
   "cell_type": "code",
   "execution_count": 5,
   "metadata": {},
   "outputs": [],
   "source": [
    "Toulouse = extraireEquipe(Joueurs,\"Toulouse\")\n",
    "Clermont = extraireEquipe(Joueurs,\"Clermont\")"
   ]
  },
  {
   "cell_type": "code",
   "execution_count": 6,
   "metadata": {},
   "outputs": [],
   "source": [
    "def representation(data):\n",
    "    \"\"\"data est une liste de joueurs avec leurs caractéristiques.\n",
    "    On extrait leur taille et poids puis on représente ces données dans un repère\n",
    "    (une couleur par type de poste la position étant déterminée par la liste des descripteurs)\n",
    "    Les types de postes sont \"Avant\", \"2ème ligne\", \"3ème ligne\", \"Demi\", \"Trois-Quarts\" et \"Arrière\" \"\"\"\n",
    "    dictCouleurs = {\"Avant\":\"tab:blue\", \"2ème ligne\":\"tab:red\", \"3ème ligne\":\"tab:green\", \"Demi\":\"tab:purple\", \"Trois-Quarts\":\"tab:brown\", \"Arrière\":\"tab:orange\"}\n",
    "    dictMarkers = {\"Avant\":\"x\", \"2ème ligne\":\"+\", \"3ème ligne\":\"1\", \"Demi\":\".\", \"Trois-Quarts\":\"*\", \"Arrière\":\"^\"}\n",
    "    fig = plt.figure()\n",
    "    listLabel = []\n",
    "    for joueur in data:\n",
    "        #Ce qui suit sert juste à afficher les labels\n",
    "        if joueur[\"Type poste\"] in listLabel:\n",
    "            plt.plot(int(joueur[\"Taille (en cm)\"]), int(joueur[\"Poids (en kg)\"]), color=dictCouleurs[joueur[\"Type poste\"]],marker=dictMarkers[joueur[\"Type poste\"]])\n",
    "        else :\n",
    "            plt.plot(int(joueur[\"Taille (en cm)\"]), int(joueur[\"Poids (en kg)\"]), color=dictCouleurs[joueur[\"Type poste\"]],marker=dictMarkers[joueur[\"Type poste\"]],label=joueur[\"Type poste\"])\n",
    "            listLabel.append(joueur[\"Type poste\"])\n",
    "    #Cette partie sert juste à créer le nom du fichier\n",
    "    equipe = [joueur[\"Equipe\"] for joueur in data]\n",
    "    if(equipe.count(equipe[0]) == len(equipe)):\n",
    "        #c'est que tous les joueurs sont d'une même équipe,\n",
    "        nomEquipe = data[1][\"Equipe\"]\n",
    "    else :\n",
    "        nomEquipe = \"top14\"\n",
    "    plt.xlabel(\"Taille (en cm)\")\n",
    "    plt.ylabel(\"Poids (en kg)\")\n",
    "\n",
    "    plt.legend(title=nomEquipe,markerscale = 1.2,frameon = True)\n",
    "    plt.savefig(nomEquipe+\".png\")\n",
    "    plt.show()"
   ]
  },
  {
   "cell_type": "code",
   "execution_count": 7,
   "metadata": {},
   "outputs": [
    {
     "data": {
      "image/png": "[encoded data removed]",
      "text/plain": [
       "<Figure size 432x288 with 1 Axes>"
      ]
     },
     "metadata": {
      "needs_background": "light"
     },
     "output_type": "display_data"
    },
    {
     "data": {
      "image/png": "[encoded data removed]",
      "text/plain": [
       "<Figure size 432x288 with 1 Axes>"
      ]
     },
     "metadata": {
      "needs_background": "light"
     },
     "output_type": "display_data"
    }
   ],
   "source": [
    "representation(Toulouse)\n",
    "representation(Clermont)"
   ]
  },
  {
   "cell_type": "markdown",
   "metadata": {},
   "source": [
    "Dans notre contexte, on souhaite déterminer quel type de poste peut prendre un joueur connaissant sa taille\n",
    "et son poids.\n",
    "<h4 style='color:blue; font-weight:bold'>1. Le principe de l’algorithme en langage courant</h4>\n",
    "On dispose d’un ensemble de données, d’une fonction distance et d’un entier k.\n",
    "Chaque donnée contient deux types d’informations :\n",
    "<ul>\n",
    "    <li> deux données numériques destinées à la comparaison de deux éléments de l’ensemble;</li>\n",
    "    <li> un troisième critère destiné à la classification d’un élément.</li>\n",
    "</ul>\n",
    "<h5> (a) Dans notre exemple des joueurs de rugby, que sont ces types d’informations ?</h5>"
   ]
  },
  {
   "cell_type": "markdown",
   "metadata": {},
   "source": []
  },
  {
   "cell_type": "markdown",
   "metadata": {},
   "source": [
    "<h5> (b) Fonction distance</h5> "
   ]
  },
  {
   "cell_type": "code",
   "execution_count": 8,
   "metadata": {},
   "outputs": [],
   "source": [
    "from math import sqrt\n",
    "def distance(x1,y1,x2,y2):\n",
    "    \"\"\"distance euclidienne entre les points de coordonnées (x1;y1) et (x2;y2)\"\"\"\n",
    "    return sqrt((x2-x1)**2+(y2-y1)**2)"
   ]
  },
  {
   "cell_type": "markdown",
   "metadata": {},
   "source": [
    "<h5> (c) Le principe de l’algorithme</h5> \n",
    "<ol>\n",
    "    <li>Parcourir la liste de tous les joueurs de l'équipe choisie (c'est une liste de dictionnaires dans notre exemple) ;</li>\n",
    "    <li>Calculer pour chacun des joueurs la \"distance\" (en termes de taille et poids) avec le nouveau joueur ;</li>\n",
    "    <li>Récupérer les k joueurs les plus proches en termes de distance ;</li>\n",
    "    <li>Dans cette liste de k joueurs, identifier le critère de \"type de poste\" le plus souvent présent et l'affecter au nouveau joueur.</li>\n",
    "</ol>"
   ]
  },
  {
   "cell_type": "markdown",
   "metadata": {},
   "source": [
    "<h5> (d) Avec le tableur</h5> \n",
    "Le problème avec la formule proposée c'est qu'en la recopiant vers le bas, les références I2 et J2 évoluent et les formules recopiées créent alors des erreurs.<br/>\n",
    "Il faut donc fixer le numéro de ligne des références I2 et J2 : <br/>\n",
    "=RACINE((F2-I<span style='color:blue;'>\\$</span>2)^2+(G2-J<span style='color:blue;'>\\$</span>2)^2)"
   ]
  },
  {
   "cell_type": "markdown",
   "metadata": {},
   "source": [
    "<h4 style='color:blue; font-weight:bold'>2. Traduction en python</h4>"
   ]
  },
  {
   "cell_type": "code",
   "execution_count": 9,
   "metadata": {},
   "outputs": [],
   "source": [
    "#La fonction ci-dessous recherche le type de poste le plus courant dans la liste des données extraites (chaque donnée est un dictionnaire - correspondant aux caractéritiques d'un joueur)\n",
    "#Dans cette fonction, je ne parcours qu'une et une seule fois la liste des k dictionnaires\n",
    "def rechercheTypePoste(data):\n",
    "    \"\"\"dans data, on cherche le type de poste le plus souvent présent (type poste étant d'index 3 dans chaque élément de data)\"\"\"\n",
    "    listePoste = [] #c'est la liste des postes déjà trouvés au fur et à mesure qu'on parcourt data\n",
    "    occurrencePoste = {} #occurencePoste sera un dictionnaire avec pour clés chaque type de poste présent dans data\n",
    "    for elt in data:\n",
    "        if elt[\"Type poste\"] in listePoste:\n",
    "            occurrencePoste[elt[\"Type poste\"]]+=1\n",
    "        else :\n",
    "            listePoste.append(elt[\"Type poste\"])\n",
    "            occurrencePoste[elt[\"Type poste\"]] = 1\n",
    "    #Je parcours la liste des postes pour savoir le plus présent\n",
    "    typePoste=''\n",
    "    occurrence=0\n",
    "    for poste in listePoste:\n",
    "        if occurrencePoste[poste]>occurrence:\n",
    "            typePoste=poste\n",
    "            occurrence=occurrencePoste[poste]\n",
    "    return typePoste\n",
    "\n",
    "#Voici une autre fonction renvoyant le même résultat. Cette fois-ci j'utilise la fonction count qui parcourt la liste à chaque appel (donc cela demandera un peu plus de temps de traitement - mais cela restera insignifiant pour nous)\n",
    "def autreRechercheTypePoste(data):\n",
    "    listePoste = [elt[\"Type poste\"] for elt in data] #je me contente de la liste des postes des éléments de data\n",
    "    Occu = 0 # occurence du type de poste le plus souvent présent (initialisé à 0)\n",
    "    for poste in listePoste:\n",
    "        effectif = lstClasse.count(poste)  #cette variable me permet de n'appeler la méthode count qu'une seule fois (penser que l'appel de cette fonction oblige à parcourir toute la liste)\n",
    "        if effectif>Occu:\n",
    "            Occu=effectif\n",
    "            C=poste\n",
    "    return poste"
   ]
  },
  {
   "cell_type": "code",
   "execution_count": 10,
   "metadata": {},
   "outputs": [],
   "source": [
    "def classification(k,data,taille,poids):\n",
    "    \"\"\"une série de données étant fournies, on souhaite extraire la classe type de poste d'un joueur dont la taille et le poids sont fournis\n",
    "    data est une liste de dictionnaires de clés : 'Equipe', 'Nom', 'Poste', 'Type poste', 'Date de naissance', 'Taille', 'Poids'\n",
    "    On utilise l'algorithme des k plus proches voisins avec k premier paramètre de cette fonction\n",
    "    Cet algorithme utilise un tri des données\"\"\"\n",
    "    knn = sorted(data, key=lambda x:distance(int(x[\"Taille (en cm)\"]),int(x[\"Poids (en kg)\"]),taille,poids))[:k] #on ordonne les éléments de la liste data suivant la distance (key) et on en prend que les k premiers éléments\n",
    "    return rechercheTypePoste(knn)"
   ]
  },
  {
   "cell_type": "code",
   "execution_count": 11,
   "metadata": {},
   "outputs": [
    {
     "data": {
      "text/plain": [
       "('Trois-Quarts', 'Avant', 'Demi', 'Arrière')"
      ]
     },
     "execution_count": 11,
     "metadata": {},
     "output_type": "execute_result"
    }
   ],
   "source": [
    "(classification(7, Toulouse, 185, 98), \n",
    "classification(7, Toulouse, 185, 112), \n",
    "classification(7, Toulouse, 175, 91), \n",
    "classification(7, Toulouse, 180, 90))"
   ]
  },
  {
   "cell_type": "markdown",
   "metadata": {},
   "source": [
    "Deuxième algorithme plus efficace car on ne passe plus par le rangement des valeurs dans l'ordre"
   ]
  },
  {
   "cell_type": "code",
   "execution_count": 12,
   "metadata": {},
   "outputs": [],
   "source": [
    "\n",
    "def classificationEfficace(k,data,taille,poids):\n",
    "    \"\"\"une série de données étant fournies, on souhaite extraire la classe type de poste d'un joueur dont la taille et le poids sont fournis\n",
    "    data est une liste de dictionnaires de clés : 'Equipe', 'Nom', 'Poste', 'Type poste', 'Date de naissance', 'Taille', 'Poids'\n",
    "    On utilise l'algorithme des k plus proches voisins avec k premier paramètre de cette fonction\n",
    "    Cet algorithme ne range pas les données dans l'ordre\"\"\"\n",
    "    extraction = [] # cette liste contiendra un tuple où le premier élément sera la ligne d'un joueur et le deuxième élément la distance par rapport au nouveau joueur (cela évite de la recalculer)\n",
    "    for joueur in data:\n",
    "        newDist = distance(int(joueur['Taille (en cm)']),int(joueur[\"Poids (en kg)\"]),taille,poids)\n",
    "        aPlacer = len(extraction)<k or newDist<extraction[-1][1]    #au premier passage, extraction est vide, mais extraction[-1] n'est pas évalué donc ça ne plante pas\n",
    "        #ce booléen aPlacer me permet de déterminer si j'ajoute le joueur à ma liste des k plus proches voisins\n",
    "        if aPlacer:\n",
    "            #On met joueur dans la liste extraction\n",
    "            #On le met cependant à sa place dans la liste ordonnée par les distances\n",
    "            if(len(extraction)==0):\n",
    "                extraction.append((joueur, newDist)) #J'ajoute un tuple, donc j'ai besoin de ces deux parenthèses\n",
    "            else:\n",
    "                if(len(extraction)==k):\n",
    "                    extraction.pop() #avant d'ajouter un nouvel élément, on enlève le dernier\n",
    "                pos=len(extraction)\n",
    "                while (pos>=1 and newDist<extraction[pos-1][1]):\n",
    "                    pos-=1\n",
    "                extraction.insert(pos,(joueur,newDist)) #l'élément est alors inséré à sa place (dans l'ordre croissant de la distance)\n",
    "    knn = [el[0] for el in extraction]\n",
    "    return rechercheTypePoste(knn)"
   ]
  },
  {
   "cell_type": "code",
   "execution_count": 13,
   "metadata": {},
   "outputs": [
    {
     "data": {
      "text/plain": [
       "('Trois-Quarts', 'Avant', 'Demi', 'Arrière')"
      ]
     },
     "execution_count": 13,
     "metadata": {},
     "output_type": "execute_result"
    }
   ],
   "source": [
    "(classificationEfficace(7, Toulouse, 185, 98), \n",
    "classificationEfficace(7, Toulouse, 185, 112), \n",
    "classificationEfficace(7, Toulouse, 175, 91), \n",
    "classificationEfficace(7, Toulouse, 180, 90))"
   ]
  },
  {
   "cell_type": "code",
   "execution_count": null,
   "metadata": {},
   "outputs": [],
   "source": []
  }
 ],
 "metadata": {
  "kernelspec": {
   "display_name": "Python 3",
   "language": "python",
   "name": "python3"
  },
  "language_info": {
   "codemirror_mode": {
    "name": "ipython",
    "version": 3
   },
   "file_extension": ".py",
   "mimetype": "text/x-python",
   "name": "python",
   "nbconvert_exporter": "python",
   "pygments_lexer": "ipython3",
   "version": "3.7.6"
  }
 },
 "nbformat": 4,
 "nbformat_minor": 4
}
