{
 "cells": [
  {
   "cell_type": "markdown",
   "metadata": {},
   "source": [
    "<h1 style='color:red;'> Algorithme Glouton </h1>"
   ]
  },
  {
   "cell_type": "markdown",
   "metadata": {},
   "source": [
    "<h2 style='color:blue;'>Problème du rendu de monnaie</h2>"
   ]
  },
  {
   "cell_type": "markdown",
   "metadata": {},
   "source": [
    "<p>Le principe de ce problème est de déterminer, dans le cas où on souhaite rendre une certaine somme d'argent, les pièces à choisir pour que le nombre de pièces soit le plus petit possible.</p>\n",
    "<p>Voici une fonction répondant au problème en renvoyant la réponse sous la forme d'un dictionnaire :</p>"
   ]
  },
  {
   "cell_type": "code",
   "execution_count": 1,
   "metadata": {},
   "outputs": [],
   "source": [
    "def renduMonnaie(pieces, somme):\n",
    "    \"\"\"pieces est la liste des pièces dont on dispose (on ordonnera ces pièces dans l'ordre décroissant)\n",
    "    somme est le montant qui doit être rendu\n",
    "    Cette fonction renvoie un dictionnaire où les clés seront les pièces à rendre et les valeurs le nombre de chacune de ces pièces\"\"\"\n",
    "    #sommeARendre sera la valeur qu'il restera à rendre au fur et à mesure qu'on aura\n",
    "    #choisi des pièces\n",
    "    sommeARendre=somme\n",
    "    listePiece = sorted(pieces,reverse=True)\n",
    "    dictPieces = {}      #accueillera le dictionnaire à renvoyer\n",
    "    numPiece = 0         #position de la pièce qu'on cherche à rendre (la plus grande possible)\n",
    "    while sommeARendre>0:\n",
    "        if listePiece[numPiece]<=sommeARendre :\n",
    "            #donc on rend la pièce d'index numPiece\n",
    "            #on crée une nouvelle clé du dictionnaire si on n'a pas encore rendu cette pièce\n",
    "            #sinon, on ajoute 1 à la valeur associée à cette clé\n",
    "            if listePiece[numPiece] in dictPieces:\n",
    "                dictPieces[listePiece[numPiece]] += 1\n",
    "            else :\n",
    "                dictPieces[listePiece[numPiece]] = 1\n",
    "            #on enlève la valeur de cette pièce à la somme à rendre\n",
    "            sommeARendre -= listePiece[numPiece]\n",
    "        else :\n",
    "            #on regarde la pièce suivante\n",
    "            numPiece +=1\n",
    "    return dictPieces"
   ]
  },
  {
   "cell_type": "markdown",
   "metadata": {},
   "source": [
    "Vérifier le résultat avec des pièces (ou billets) de 1, 2, 5, 10, 20 et 50 euros pour rendre 14€, puis pour rendre 73€."
   ]
  },
  {
   "cell_type": "code",
   "execution_count": 2,
   "metadata": {},
   "outputs": [
    {
     "data": {
      "text/plain": [
       "({10: 1, 2: 2}, {50: 1, 20: 1, 2: 1, 1: 1})"
      ]
     },
     "execution_count": 2,
     "metadata": {},
     "output_type": "execute_result"
    }
   ],
   "source": [
    "renduMonnaie([1,2,5,10,20,50], 14), renduMonnaie([1,2,5,10,20,50], 73)"
   ]
  },
  {
   "cell_type": "markdown",
   "metadata": {},
   "source": [
    "Que donne l'algorithme pour un système avec des pièces de 1, 6 et 10 pour rendre la valeur 18 ? On vérifiera que ce résultat n'est pas optimal."
   ]
  },
  {
   "cell_type": "code",
   "execution_count": 3,
   "metadata": {},
   "outputs": [
    {
     "data": {
      "text/plain": [
       "{10: 1, 6: 1, 1: 2}"
      ]
     },
     "execution_count": 3,
     "metadata": {},
     "output_type": "execute_result"
    }
   ],
   "source": [
    "renduMonnaie([1,6,10], 18)"
   ]
  },
  {
   "cell_type": "markdown",
   "metadata": {},
   "source": [
    "On aurait pu se contenter de construire une fonction qui ne renvoie que le nombre de pièces (pas un dictionaire). Voici ce que cela donne (en enlevant les commentaires)."
   ]
  },
  {
   "cell_type": "code",
   "execution_count": 4,
   "metadata": {},
   "outputs": [],
   "source": [
    "def nbPiecesRendues(pieces, somme):\n",
    "    \"\"\"pieces est la liste des pièces dont on dispose (on ordonnera ces pièces dans l'ordre décroissant)\n",
    "    somme est le montant qui doit être rendu\n",
    "    Cette fonction renvoie le nombre de pièces nécessaires avec l'algorithme glouton\"\"\"\n",
    "    sommeARendre=somme\n",
    "    listePiece = sorted(pieces,reverse=True)\n",
    "    numPiece = 0\n",
    "    nombrePiece = 0\n",
    "    while sommeARendre>0:\n",
    "        if listePiece[numPiece]<=sommeARendre :\n",
    "            nombrePiece+=1\n",
    "            sommeARendre -= listePiece[numPiece]\n",
    "        else :\n",
    "            numPiece +=1\n",
    "    return nombrePiece"
   ]
  },
  {
   "cell_type": "code",
   "execution_count": 5,
   "metadata": {},
   "outputs": [
    {
     "data": {
      "text/plain": [
       "(3, 4)"
      ]
     },
     "execution_count": 5,
     "metadata": {},
     "output_type": "execute_result"
    }
   ],
   "source": [
    "nbPiecesRendues([1,2,5,10,20,50], 14), nbPiecesRendues([1,2,5,10,20,50], 73)"
   ]
  },
  {
   "cell_type": "markdown",
   "metadata": {},
   "source": [
    "<h2 style='color:blue;'>Problème du sac à dos</h2>"
   ]
  },
  {
   "cell_type": "markdown",
   "metadata": {},
   "source": [
    "<p>Dans le cours, on a défini le problème. On cherche donc à sélectionner les objets prioritairement par leur rapport valeur/poids.</p>\n",
    "<p>Dans ce premier algorithme, les obejts sont définis sous la forme d'une liste de listes.</p>"
   ]
  },
  {
   "cell_type": "code",
   "execution_count": 6,
   "metadata": {},
   "outputs": [],
   "source": [
    "def sacADos(listeObjets, poidsMax):\n",
    "    \"\"\"on dispose d'une liste d'objets sous la forme d'une liste de tuples sous la forme (nom de l'objet, valeur, poids)\n",
    "    poidsMax est le poids maximal accepté dans le sac à dos\n",
    "    Cette fonction renvoie la liste des objets sélectionnés suivant un algorithme glouton\"\"\"\n",
    "    listeOrdonnee = sorted(listeObjets, key=lambda x:x[1]/x[2], reverse=True)\n",
    "    i=0\n",
    "    poidsDansSac=0\n",
    "    valeurDansSac=0\n",
    "    poidsRestant=poidsMax   #poids de ce qui est encore accepté dans le sac (on pourrait se passer de cette variable)\n",
    "    listeSac=[]\n",
    "    while poidsRestant>0 and i<len(listeObjets):\n",
    "        if listeOrdonnee[i][2]<poidsRestant :\n",
    "            #donc je choisis cet objet et le mets dans le sac\n",
    "            listeSac.append(listeOrdonnee[i])\n",
    "            valeurDansSac+=listeOrdonnee[i][1]\n",
    "            poidsDansSac+=listeOrdonnee[i][2]\n",
    "            poidsRestant-=listeOrdonnee[i][2]\n",
    "        i+=1\n",
    "    return listeSac, valeurDansSac, poidsDansSac"
   ]
  },
  {
   "cell_type": "markdown",
   "metadata": {},
   "source": [
    "On peut tester cette fonction : "
   ]
  },
  {
   "cell_type": "code",
   "execution_count": 7,
   "metadata": {},
   "outputs": [
    {
     "data": {
      "text/plain": [
       "([('objet2', 32, 2), ('objet6', 75, 8), ('objet8', 65, 7)], 172, 17)"
      ]
     },
     "execution_count": 7,
     "metadata": {},
     "output_type": "execute_result"
    }
   ],
   "source": [
    "lesObjets=[('objet1', 130, 14), ('objet2', 32, 2),\n",
    "    ('objet3', 22, 5), ('objet4', 15, 4),\n",
    "    ('objet5', 20, 6), ('objet6', 75, 8),\n",
    "    ('objet7', 95, 11), ('objet8', 65, 7)]\n",
    "sacADos(lesObjets,20)"
   ]
  },
  {
   "cell_type": "markdown",
   "metadata": {},
   "source": [
    "On peut aussi le faire à l'aide d'une liste de dictionnaires :"
   ]
  },
  {
   "cell_type": "code",
   "execution_count": 8,
   "metadata": {},
   "outputs": [],
   "source": [
    "def sacADos2(listeObjets, poidsMax):\n",
    "    \"\"\"on dispose d'une liste d'objets sous la forme d'une liste de dictionnaires de clés \"nom\", \"valeur\", \"poids\"\n",
    "    poidsMax est le poids maximal accepté dans le sac à dos\n",
    "    Cette fonction renvoie la liste des objets sélectionnés suivant un algorithme glouton\"\"\"\n",
    "    listeOrdonnee = sorted(listeObjets, key=lambda x:x[\"valeur\"]/x[\"poids\"], reverse=True)\n",
    "    i=0\n",
    "    poidsDansSac=0\n",
    "    valeurDansSac=0\n",
    "    poidsRestant=poidsMax   #poids de ce qui est encore accepté dans le sac (on pourrait se passer de cette variable)\n",
    "    listeSac=[]\n",
    "    while poidsRestant>0 and i<len(listeObjets):\n",
    "        if listeOrdonnee[i][\"poids\"]<poidsRestant :\n",
    "            #donc je choisis cet objet et le mets dans le sac\n",
    "            listeSac.append(listeOrdonnee[i])\n",
    "            valeurDansSac+=listeOrdonnee[i][\"valeur\"]\n",
    "            poidsDansSac+=listeOrdonnee[i][\"poids\"]\n",
    "            poidsRestant-=listeOrdonnee[i][\"poids\"]\n",
    "        i+=1\n",
    "    return listeSac, valeurDansSac, poidsDansSac"
   ]
  },
  {
   "cell_type": "code",
   "execution_count": 9,
   "metadata": {},
   "outputs": [],
   "source": [
    "objetsDic=[{'nom':'objet1', 'valeur':130, 'poids':14}, {'nom':'objet2', 'valeur':32, 'poids':2},\n",
    "    {'nom':'objet3', 'valeur':22, 'poids':5}, {'nom':'objet4', 'valeur':15, 'poids':4},\n",
    "    {'nom':'objet5', 'valeur':20, 'poids':6}, {'nom':'objet6', 'valeur':75, 'poids':8},\n",
    "    {'nom':'objet7', 'valeur':95, 'poids':11}, {'nom':'objet8', 'valeur':65, 'poids':7}]"
   ]
  },
  {
   "cell_type": "code",
   "execution_count": 10,
   "metadata": {},
   "outputs": [
    {
     "data": {
      "text/plain": [
       "([{'nom': 'objet2', 'valeur': 32, 'poids': 2},\n",
       "  {'nom': 'objet6', 'valeur': 75, 'poids': 8},\n",
       "  {'nom': 'objet8', 'valeur': 65, 'poids': 7}],\n",
       " 172,\n",
       " 17)"
      ]
     },
     "execution_count": 10,
     "metadata": {},
     "output_type": "execute_result"
    }
   ],
   "source": [
    "sacADos2(objetsDic, 20)"
   ]
  },
  {
   "cell_type": "code",
   "execution_count": null,
   "metadata": {},
   "outputs": [],
   "source": []
  }
 ],
 "metadata": {
  "kernelspec": {
   "display_name": "Python 3",
   "language": "python",
   "name": "python3"
  },
  "language_info": {
   "codemirror_mode": {
    "name": "ipython",
    "version": 3
   },
   "file_extension": ".py",
   "mimetype": "text/x-python",
   "name": "python",
   "nbconvert_exporter": "python",
   "pygments_lexer": "ipython3",
   "version": "3.7.6"
  }
 },
 "nbformat": 4,
 "nbformat_minor": 4
}
